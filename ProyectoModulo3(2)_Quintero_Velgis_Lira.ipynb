{
 "cells": [
  {
   "cell_type": "markdown",
   "metadata": {},
   "source": [
    "# Pendulo doble\n",
    "**Integrantes**\n",
    "- Integrante 1: Hissam Quintero Avilez\n",
    "- Integrante 2: Arturo Velgis García\n",
    "- Integrante 3: José Manuel Lira Aguas\n",
    "\n",
    "## Objetivo general\n",
    "\n",
    "Resolver las ecuaciones diferenciales que representan el movimiento de un pendulo doble utilizando la funcion odeint\n",
    "\n",
    "## Objetivos específicos\n",
    "\n",
    "Realizar una animación del movimiento de distintos pendulos dobles\n",
    "\n",
    "## Ecuaciones pendulo doble:\n",
    "![](https://upload.wikimedia.org/wikipedia/commons/thumb/7/78/Double-Pendulum.svg/200px-Double-Pendulum.svg.png)\n"
   ]
  },
  {
   "cell_type": "markdown",
   "metadata": {},
   "source": [
    "Las ecuaciones de posición de un pendulo doble como el que se muestra en la imagen son:\n",
    "\n",
    "- $r_1=(x_1,y_1)= (L_1sin(\\theta), -L1cos(\\theta))$\n",
    "- $r_2=(x_2,y_2)= (L_1sin(\\theta)+L_2sin(\\theta), -L1cos(\\theta))-L_2cos(\\theta)$\n",
    "\n",
    "Las velocidades:\n",
    "- $v_1=\\dot{r_1}=(L_1\\dot{\\theta}cos(\\theta), L_1\\dot{\\theta}sin(\\theta))$\n",
    "- $v_2=(L_1\\dot{\\theta}cos(\\theta)+L_2\\dot{\\theta}cos(\\theta), L1\\dot{\\theta}sin(\\theta))+L_2\\dot{\\theta}sin(\\theta)$\n",
    "\n",
    "El lagraangiano es\n",
    "$$L=T-U$$ \n",
    "$$T=\\frac{1}{2}(m_1v_1^2+m_2v_2^2)$$\n",
    "$$U=m_1gy_1+m_2gy_2$$\n",
    "donde $g=9.81 m/s^2$ es la aceleracion de la gravedad\n",
    "\n",
    "### Ecuacion de Euler-Lagrange\n",
    "$$\\frac{d}{dt}(\\frac{\\partial L}{\\partial \\dot{\\theta_1}$$ - \\frac{\\partial \\mathcal{L}}{\\partial \\theta_1} = 0 $$"
   ]
  },
  {
   "cell_type": "code",
   "execution_count": 1,
   "metadata": {},
   "outputs": [],
   "source": [
    "import numpy as np\n",
    "import matplotlib.pyplot as plt\n",
    "import scipy.integrate as integrate\n",
    "import matplotlib.animation as animation"
   ]
  },
  {
   "cell_type": "code",
   "execution_count": 11,
   "metadata": {},
   "outputs": [
    {
     "data": {
      "image/png": "[encoded data removed]",
      "text/plain": [
       "<Figure size 432x288 with 1 Axes>"
      ]
     },
     "metadata": {
      "needs_background": "light"
     },
     "output_type": "display_data"
    }
   ],
   "source": [
    "#aceleracion de la gravedad\n",
    "G = 9.81\n",
    "#longitudes y masas\n",
    "L1, M1 = 0.5, 10\n",
    "L2, M2 = 1.5, 1.0 \n",
    "\n",
    "\n",
    "def derivs(state, t):\n",
    "\n",
    "    dydx = np.zeros_like(state)\n",
    "    dydx[0] = state[1]\n",
    "\n",
    "    del_ = state[2] - state[0]\n",
    "    den1 = (M1 + M2)*L1 - M2*L1*np.cos(del_)*np.cos(del_)\n",
    "    dydx[1] = (M2*L1*state[1]*state[1]*np.cos(del_)*np.cos(del_) + M2*G*np.sin(state[2])*np.cos(del_) + M2*L2*state[3]*state[3]*np.sin(del_) - (M1 + M2)*G*np.sin(state[0]))/den1\n",
    "\n",
    "    dydx[2] = state[3]\n",
    "\n",
    "    den2 = (L2/L1)*den1\n",
    "    dydx[3] = (-M2*L2*state[3]*state[3]*np.sin(del_)*np.cos(del_) + (M1 + M2)*G*np.sin(state[0])*np.cos(del_) - (M1 + M2)*L1*state[1]*state[1]*np.sin(del_) - (M1 + M2)*G*np.sin(state[2]))/den2\n",
    "\n",
    "    return dydx\n",
    "\n",
    "# create a time array from 0..100 sampled at 0.05 second steps\n",
    "dt = 0.05\n",
    "t = np.arange(0.0, 20, dt)\n",
    "\n",
    "# th1 and th2 are the initial angles (degrees)\n",
    "# w10 and w20 are the initial angular velocities (degrees per second)\n",
    "th1 = 120.0\n",
    "w1 = 0.0\n",
    "th2 = -10.0\n",
    "w2 = 0.0\n",
    "\n",
    "# initial state\n",
    "state = np.radians([th1, w1, th2, w2])\n",
    "\n",
    "# integrate your ODE using scipy.integrate.\n",
    "y = integrate.odeint(derivs, state, t)\n",
    "\n",
    "x1 = L1*np.sin(y[:, 0])\n",
    "y1 = -L1*np.cos(y[:, 0])\n",
    "\n",
    "x2 = L2*np.sin(y[:, 2]) + x1\n",
    "y2 = -L2*np.cos(y[:, 2]) + y1\n",
    "\n",
    "fig = plt.figure()\n",
    "ax = fig.add_subplot(111, autoscale_on=False, xlim=(-2, 2), ylim=(-2, 2))\n",
    "ax.grid()\n",
    "\n",
    "line, = ax.plot([], [], 'o-', lw=2)\n",
    "time_template = 'time = %.1fs'\n",
    "time_text = ax.text(0.05, 0.9, '', transform=ax.transAxes)\n",
    "\n",
    "\n",
    "def init():\n",
    "    line.set_data([], [])\n",
    "    time_text.set_text('')\n",
    "    return line, time_text\n",
    "\n",
    "\n",
    "def animate(i):\n",
    "    thisx = [0, x1[i], x2[i]]\n",
    "    thisy = [0, y1[i], y2[i]]\n",
    "\n",
    "    line.set_data(thisx, thisy)\n",
    "    time_text.set_text(time_template % (i*dt))\n",
    "    return line, time_text\n",
    "\n",
    "ani = animation.FuncAnimation(fig, animate, np.arange(1, len(y)), interval=25, blit=True, init_func=init)\n",
    "\n",
    "ani.save('double_pendulum.mp4', fps=15)\n",
    "#plt.show()"
   ]
  },
  {
   "cell_type": "code",
   "execution_count": null,
   "metadata": {},
   "outputs": [],
   "source": []
  }
 ],
 "metadata": {
  "kernelspec": {
   "display_name": "Python 3",
   "language": "python",
   "name": "python3"
  },
  "language_info": {
   "codemirror_mode": {
    "name": "ipython",
    "version": 3
   },
   "file_extension": ".py",
   "mimetype": "text/x-python",
   "name": "python",
   "nbconvert_exporter": "python",
   "pygments_lexer": "ipython3",
   "version": "3.8.5"
  }
 },
 "nbformat": 4,
 "nbformat_minor": 4
}
